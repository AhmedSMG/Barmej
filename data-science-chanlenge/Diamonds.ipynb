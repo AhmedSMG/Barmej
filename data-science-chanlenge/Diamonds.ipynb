{
 "cells": [
  {
   "cell_type": "markdown",
   "metadata": {
    "_cell_guid": "79c7e3d0-c299-4dcb-8224-4455121ee9b0",
    "_uuid": "d629ff2d2480ee46fbb7e2d37f6b5fab8052498a",
    "collapsed": true
   },
   "source": [
    "# أسرار الألماس! \n",
    "\n",
    "في هذا التحدي، سنقوم معًا بتجربة استكشاف بيانات ضخمة حول الألماس في العالم، مواصفات الألماس وألوانه والأهم أسعاره.\n",
    "\n",
    "هذا التحدي ماهو إلا مسابقة لتتعرفوا فيها على عالم كاقل، وتخوضوا تجربة المنافسة فيما بينكم بكل متعة.\n",
    "\n",
    "لديك في الأسفل ثمان مهمات، المهمة الأولى وحتى السابعة مهمات أساسية، والمهمة الثامنة هي مهمة اختيارية.\n",
    "عند الانتهاء من المهمات المطلوبة، قم بالضغط على زر كومت أو\n",
    "- commit\n",
    "\n",
    "ليتم رفع النوت بوك الخاص بك لقائمة التسليمات.\n",
    "ولا تنسى أن تقوم بتغيير إعدادات النوت بوك من القائمة يمينًا في الإعدادات اختر\n",
    "- sharing: public\n",
    "\n",
    "ثم انسخ الرابط للصفحة وشاركنا إياه.\n",
    "\n",
    "كل التوفيق!"
   ]
  },
  {
   "cell_type": "code",
   "execution_count": null,
   "metadata": {
    "_cell_guid": "b1076dfc-b9ad-4769-8c92-a6c4dae69d19",
    "_uuid": "8f2839f25d086af736a60e9eeb907d3b93b6e0e5",
    "collapsed": true
   },
   "outputs": [],
   "source": [
    "import numpy as np \n",
    "import pandas as pd\n",
    "import seaborn as sns\n",
    "import matplotlib.pyplot as plt\n",
    "\n",
    "import os\n",
    "print(os.listdir(\"../input\"))\n",
    "\n",
    "\n",
    "%matplotlib inline\n",
    "plt.style.use(\"seaborn\")"
   ]
  },
  {
   "cell_type": "markdown",
   "metadata": {},
   "source": [
    "# المهمة الأولى\n",
    "مطلوب منك إرفاق ملف البيانات للألماس\n",
    "\n",
    "قم بالضغط على زر إضافة بيانات أو\n",
    "- Add Data\n",
    "\n",
    "وفي النافذة في شريط البحث اكتب\n",
    "- diamonds\n",
    "\n",
    "واختر أول ملف بيانات سيظهر لك، ستتم إصافته لك في القائمة يمينًا،\n",
    "للتأكد من إضافة الملف بشكل صحيح ستجد مجلدًا على اليمين اسمه\n",
    "- Diamonds\n",
    "\n",
    "تحت عنوان \n",
    "- Data\n",
    "\n",
    "\n",
    "الآن وبعد إضافة ملف البيانات ستجد أننا جهزنا لك متغير اسمه\n",
    "- dpath\n",
    "\n",
    "قم فقط بإضافة المسار هذا في دالة القراءة وأضف عليها اسم ملف البيانات لتتم قراءته كما تعودنا."
   ]
  },
  {
   "cell_type": "code",
   "execution_count": null,
   "metadata": {
    "collapsed": true
   },
   "outputs": [],
   "source": [
    "# Import data #\n",
    "dpath = '../input/'\n",
    "\n",
    "diamonddf = #"
   ]
  },
  {
   "cell_type": "markdown",
   "metadata": {},
   "source": [
    "# المهمة الثانية\n",
    "قم بطباعة جدول البيانات للتحقق من قراءته بشكل سليم ولمعرفة الأعمدة وأمثلة على البيانات"
   ]
  },
  {
   "cell_type": "code",
   "execution_count": null,
   "metadata": {
    "collapsed": true
   },
   "outputs": [],
   "source": [
    "# "
   ]
  },
  {
   "cell_type": "markdown",
   "metadata": {},
   "source": [
    "# المهمة الثالثة\n",
    "قم بطباعة معلومات حول البيانات والتي تشمل نوع البيانات في كل عمود وعددها"
   ]
  },
  {
   "cell_type": "code",
   "execution_count": null,
   "metadata": {
    "collapsed": true
   },
   "outputs": [],
   "source": [
    "# "
   ]
  },
  {
   "cell_type": "markdown",
   "metadata": {},
   "source": [
    "# المهمة الرابعة\n",
    "يوجد عمود في جدول البيانات لا يعبر عن معلومة مفيدة ويبدو زائدًا، بعد أن تتعرف على اسم العمود قم بحذفه من جدول البيانات ثم أعد طباعة الجدول"
   ]
  },
  {
   "cell_type": "code",
   "execution_count": null,
   "metadata": {
    "collapsed": true
   },
   "outputs": [],
   "source": [
    "# "
   ]
  },
  {
   "cell_type": "markdown",
   "metadata": {},
   "source": [
    "# المهمة الخامسة\n",
    "هل لدينا أي بيانات مفقودة داخل الجدول؟ تحقق من ذلك ثم أجب عن السؤال بشكل نصي"
   ]
  },
  {
   "cell_type": "code",
   "execution_count": null,
   "metadata": {
    "collapsed": true
   },
   "outputs": [],
   "source": [
    "# "
   ]
  },
  {
   "cell_type": "markdown",
   "metadata": {},
   "source": [
    "بعد أن قمت بالتحقق، هل لدينا بيانات مفقودة أم لا؟\n",
    "وإن كان لدينا بيانات مفقودة قم باستبدالها بقيمة المتوسط الحسابي"
   ]
  },
  {
   "cell_type": "markdown",
   "metadata": {},
   "source": [
    "# المهمة السادسة\n",
    "بالاستعانة بالأوامر الموجودة في الأسفل، قم بتمثيل كلاً من الأعمدة الآتية في رسم بياني منفصل\n",
    "- depth\n",
    "- table\n",
    "- price"
   ]
  },
  {
   "cell_type": "code",
   "execution_count": null,
   "metadata": {
    "collapsed": true
   },
   "outputs": [],
   "source": [
    "colors = sns.color_palette(\"deep\")\n",
    "sns.distplot(diamonddf[\"carat\"], color = colors[0])\n",
    "plt.show()\n",
    "# "
   ]
  },
  {
   "cell_type": "markdown",
   "metadata": {},
   "source": [
    "# المهمة السابعة\n",
    "أوجد متوسط أسعار الألماس بالنسبة للبيانات التي لدينا، ثم أوجد أكثر سعر تكرر وجوده في البيانات أيضًا"
   ]
  },
  {
   "cell_type": "code",
   "execution_count": null,
   "metadata": {
    "collapsed": true
   },
   "outputs": [],
   "source": [
    "#"
   ]
  },
  {
   "cell_type": "markdown",
   "metadata": {},
   "source": [
    "# المهمة الثامنة\n",
    "للتحليل الاستكشافي، هل تتوقع أن هناك علاقة بين لون الألماس وبين سعره؟\n",
    "قم برسم مدرج بياني يوضح العلاقة بين هذين المتغيرين لتوقع وجود علاقة من عدمها، ثم أوصف العلاقة بشكل مختصر."
   ]
  },
  {
   "cell_type": "code",
   "execution_count": null,
   "metadata": {
    "collapsed": true
   },
   "outputs": [],
   "source": [
    "#"
   ]
  },
  {
   "cell_type": "code",
   "execution_count": null,
   "metadata": {
    "collapsed": true
   },
   "outputs": [],
   "source": []
  },
  {
   "cell_type": "markdown",
   "metadata": {},
   "source": [
    "# تهانينا! قم بتسليم الملف من خلال زر كومت في أعلى الصفحة يمينًا مع فتح إعدادات المشاركة أو تسليم الملف من خلاله تنزيل نسخة منه وإرسالها."
   ]
  },
  {
   "cell_type": "code",
   "execution_count": null,
   "metadata": {
    "collapsed": true
   },
   "outputs": [],
   "source": []
  }
 ],
 "metadata": {
  "kernelspec": {
   "display_name": "Python 3",
   "language": "python",
   "name": "python3"
  },
  "language_info": {
   "codemirror_mode": {
    "name": "ipython",
    "version": 3
   },
   "file_extension": ".py",
   "mimetype": "text/x-python",
   "name": "python",
   "nbconvert_exporter": "python",
   "pygments_lexer": "ipython3",
   "version": "3.6.4"
  }
 },
 "nbformat": 4,
 "nbformat_minor": 1
}
